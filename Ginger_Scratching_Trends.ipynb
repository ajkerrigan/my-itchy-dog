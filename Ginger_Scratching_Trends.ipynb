{
  "nbformat": 4,
  "nbformat_minor": 0,
  "metadata": {
    "colab": {
      "provenance": [],
      "authorship_tag": "ABX9TyOF0DB0Ts5LEJDFLKA02i2x",
      "include_colab_link": true
    },
    "kernelspec": {
      "name": "python3",
      "display_name": "Python 3"
    },
    "language_info": {
      "name": "python"
    }
  },
  "cells": [
    {
      "cell_type": "markdown",
      "metadata": {
        "id": "view-in-github",
        "colab_type": "text"
      },
      "source": [
        "<a href=\"https://colab.research.google.com/github/ajkerrigan/my-itchy-dog/blob/main/Ginger_Scratching_Trends.ipynb\" target=\"_parent\"><img src=\"https://colab.research.google.com/assets/colab-badge.svg\" alt=\"Open In Colab\"/></a>"
      ]
    },
    {
      "cell_type": "markdown",
      "source": [
        "# Graphing Ginger's Scratching\n",
        "\n",
        "Ginger has sensitive skin and allergies, aww...\n",
        "\n",
        "We rely on allergy medication to help manage the itchiness, and use a [Whistle](https://www.whistle.com/) device to help track her scratching frequency over time. That's a very useful piece of the puzzle, but it can only show 1 week or 1 month of scratching data at a time. To gauge medication effectiveness and help plan future doses, it's helpful to look further back to see longer-term trends.\n",
        "\n",
        "Here we fetch data from the Whistle API (cheers to [go-whistle-wrapper](https://github.com/amattu2/go-whistle-wrapper) for highlighting the methods I needed), then wrap it in a [Polars](https://pola-rs.github.io/) data frame and graph it with [Altair](https://altair-viz.github.io).\n",
        "\n",
        "This uses Altair's [experimental support](https://altair-viz.github.io/user_guide/data.html#specifying-data) for the DataFrame Interchange Protocol under the hood, so step 0 is making sure we've got current versions of altair/pyarrow/polars installed."
      ],
      "metadata": {
        "id": "A98aj0IfWso4"
      }
    },
    {
      "cell_type": "code",
      "source": [
        "%pip install --upgrade altair pyarrow polars"
      ],
      "metadata": {
        "colab": {
          "base_uri": "https://localhost:8080/"
        },
        "id": "X3KPwZdWnBU-",
        "outputId": "55fe7416-9bc6-438c-a89b-bc6c19a9e513"
      },
      "execution_count": 1,
      "outputs": [
        {
          "output_type": "stream",
          "name": "stdout",
          "text": [
            "Requirement already satisfied: altair in /usr/local/lib/python3.10/dist-packages (5.2.0)\n",
            "Requirement already satisfied: pyarrow in /usr/local/lib/python3.10/dist-packages (15.0.0)\n",
            "Requirement already satisfied: polars in /usr/local/lib/python3.10/dist-packages (0.20.6)\n",
            "Requirement already satisfied: jinja2 in /usr/local/lib/python3.10/dist-packages (from altair) (3.1.3)\n",
            "Requirement already satisfied: jsonschema>=3.0 in /usr/local/lib/python3.10/dist-packages (from altair) (4.19.2)\n",
            "Requirement already satisfied: numpy in /usr/local/lib/python3.10/dist-packages (from altair) (1.23.5)\n",
            "Requirement already satisfied: packaging in /usr/local/lib/python3.10/dist-packages (from altair) (23.2)\n",
            "Requirement already satisfied: pandas>=0.25 in /usr/local/lib/python3.10/dist-packages (from altair) (1.5.3)\n",
            "Requirement already satisfied: toolz in /usr/local/lib/python3.10/dist-packages (from altair) (0.12.0)\n",
            "Requirement already satisfied: typing-extensions>=4.0.1 in /usr/local/lib/python3.10/dist-packages (from altair) (4.5.0)\n",
            "Requirement already satisfied: attrs>=22.2.0 in /usr/local/lib/python3.10/dist-packages (from jsonschema>=3.0->altair) (23.2.0)\n",
            "Requirement already satisfied: jsonschema-specifications>=2023.03.6 in /usr/local/lib/python3.10/dist-packages (from jsonschema>=3.0->altair) (2023.12.1)\n",
            "Requirement already satisfied: referencing>=0.28.4 in /usr/local/lib/python3.10/dist-packages (from jsonschema>=3.0->altair) (0.32.1)\n",
            "Requirement already satisfied: rpds-py>=0.7.1 in /usr/local/lib/python3.10/dist-packages (from jsonschema>=3.0->altair) (0.17.1)\n",
            "Requirement already satisfied: python-dateutil>=2.8.1 in /usr/local/lib/python3.10/dist-packages (from pandas>=0.25->altair) (2.8.2)\n",
            "Requirement already satisfied: pytz>=2020.1 in /usr/local/lib/python3.10/dist-packages (from pandas>=0.25->altair) (2023.3.post1)\n",
            "Requirement already satisfied: MarkupSafe>=2.0 in /usr/local/lib/python3.10/dist-packages (from jinja2->altair) (2.1.4)\n",
            "Requirement already satisfied: six>=1.5 in /usr/local/lib/python3.10/dist-packages (from python-dateutil>=2.8.1->pandas>=0.25->altair) (1.16.0)\n"
          ]
        }
      ]
    },
    {
      "cell_type": "markdown",
      "source": [
        "# Fetch the Data\n",
        "\n",
        "Grab 180 days of scratching data from the Whistle API, and wrap it in a Polars DataFrame."
      ],
      "metadata": {
        "id": "-XepyTTdaPdI"
      }
    },
    {
      "cell_type": "code",
      "source": [
        "import polars as pl\n",
        "import requests\n",
        "\n",
        "from google.colab import userdata\n",
        "\n",
        "# Hi it's me\n",
        "auth_token = requests.post(\n",
        "    'https://app.whistle.com/api/login',\n",
        "    json={\n",
        "        'email': userdata.get('email'),\n",
        "        'refresh_token': userdata.get('refresh_token')\n",
        "    }\n",
        ").json()['auth_token']\n",
        "\n",
        "# Where my dogs at?\n",
        "pets = requests.get(\n",
        "    'https://app.whistle.com/api/pets',\n",
        "    headers={\n",
        "        'Accept': \"application/vnd.whistle.com.v4+json\",\n",
        "        'Authorization': f'Bearer {auth_token}'\n",
        "    }\n",
        ").json()['pets']\n",
        "\n",
        "# Hey that's my dog\n",
        "ginger = next(p['id'] for p in pets if p['name'] == 'Ginger')\n",
        "\n",
        "# Itchiness diary please\n",
        "scratching = requests.get(\n",
        "    'https://app.whistle.com/api/pets/511006/health/graphs/scratching?num_of_days=180',\n",
        "    headers={\n",
        "        'Accept': \"application/vnd.whistle.com.v4+json\",\n",
        "        'Authorization': f'Bearer {auth_token}'\n",
        "    }\n",
        ").json()['data']\n",
        "\n",
        "df = pl.DataFrame(scratching)"
      ],
      "metadata": {
        "id": "OYoBEBbLH5jW"
      },
      "execution_count": 2,
      "outputs": []
    },
    {
      "cell_type": "markdown",
      "source": [
        "# Graph\n",
        "\n",
        "Whistle has four categories of scratching, color coded as green/yellow/orange/red in the app. That's a useful breakdown, so use the same scheme here.\n",
        "\n",
        "Aside from the custom color scale and some friendly titles, this is right out of the Altair [getting started](https://altair-viz.github.io/getting_started/overview.html) material."
      ],
      "metadata": {
        "id": "gdzphMMYWmZv"
      }
    },
    {
      "cell_type": "code",
      "source": [
        "import altair as alt\n",
        "\n",
        "scale = alt.Scale(\n",
        "    domain=['infrequent', 'occasional', 'elevated', 'severe'],\n",
        "    range=['green', 'yellow', 'orange', 'red']\n",
        ")\n",
        "\n",
        "alt.Chart(df, title=\"Ginger's Scratching\").mark_bar().encode(\n",
        "    x=alt.X('start_date', type='temporal').title('Date'),\n",
        "    y=alt.Y('score', type='quantitative').title('Scratching Time (seconds)'),\n",
        "    color=alt.Color('status', type='nominal', scale=scale)\n",
        ").properties(\n",
        "    width='container',\n",
        "    height=600,\n",
        ")"
      ],
      "metadata": {
        "colab": {
          "base_uri": "https://localhost:8080/",
          "height": 685
        },
        "id": "5HK88V8fMfE0",
        "outputId": "68049f65-ca2f-4f6f-9c6d-d7c3b4aa5c0a"
      },
      "execution_count": 3,
      "outputs": [
        {
          "output_type": "execute_result",
          "data": {
            "text/html": [
              "\n",
              "<style>\n",
              "  #altair-viz-65274e478c00415299cb3727ed407090.vega-embed {\n",
              "    width: 100%;\n",
              "    display: flex;\n",
              "  }\n",
              "\n",
              "  #altair-viz-65274e478c00415299cb3727ed407090.vega-embed details,\n",
              "  #altair-viz-65274e478c00415299cb3727ed407090.vega-embed details summary {\n",
              "    position: relative;\n",
              "  }\n",
              "</style>\n",
              "<div id=\"altair-viz-65274e478c00415299cb3727ed407090\"></div>\n",
              "<script type=\"text/javascript\">\n",
              "  var VEGA_DEBUG = (typeof VEGA_DEBUG == \"undefined\") ? {} : VEGA_DEBUG;\n",
              "  (function(spec, embedOpt){\n",
              "    let outputDiv = document.currentScript.previousElementSibling;\n",
              "    if (outputDiv.id !== \"altair-viz-65274e478c00415299cb3727ed407090\") {\n",
              "      outputDiv = document.getElementById(\"altair-viz-65274e478c00415299cb3727ed407090\");\n",
              "    }\n",
              "    const paths = {\n",
              "      \"vega\": \"https://cdn.jsdelivr.net/npm/vega@5?noext\",\n",
              "      \"vega-lib\": \"https://cdn.jsdelivr.net/npm/vega-lib?noext\",\n",
              "      \"vega-lite\": \"https://cdn.jsdelivr.net/npm/vega-lite@5.16.3?noext\",\n",
              "      \"vega-embed\": \"https://cdn.jsdelivr.net/npm/vega-embed@6?noext\",\n",
              "    };\n",
              "\n",
              "    function maybeLoadScript(lib, version) {\n",
              "      var key = `${lib.replace(\"-\", \"\")}_version`;\n",
              "      return (VEGA_DEBUG[key] == version) ?\n",
              "        Promise.resolve(paths[lib]) :\n",
              "        new Promise(function(resolve, reject) {\n",
              "          var s = document.createElement('script');\n",
              "          document.getElementsByTagName(\"head\")[0].appendChild(s);\n",
              "          s.async = true;\n",
              "          s.onload = () => {\n",
              "            VEGA_DEBUG[key] = version;\n",
              "            return resolve(paths[lib]);\n",
              "          };\n",
              "          s.onerror = () => reject(`Error loading script: ${paths[lib]}`);\n",
              "          s.src = paths[lib];\n",
              "        });\n",
              "    }\n",
              "\n",
              "    function showError(err) {\n",
              "      outputDiv.innerHTML = `<div class=\"error\" style=\"color:red;\">${err}</div>`;\n",
              "      throw err;\n",
              "    }\n",
              "\n",
              "    function displayChart(vegaEmbed) {\n",
              "      vegaEmbed(outputDiv, spec, embedOpt)\n",
              "        .catch(err => showError(`Javascript Error: ${err.message}<br>This usually means there's a typo in your chart specification. See the javascript console for the full traceback.`));\n",
              "    }\n",
              "\n",
              "    if(typeof define === \"function\" && define.amd) {\n",
              "      requirejs.config({paths});\n",
              "      require([\"vega-embed\"], displayChart, err => showError(`Error loading script: ${err.message}`));\n",
              "    } else {\n",
              "      maybeLoadScript(\"vega\", \"5\")\n",
              "        .then(() => maybeLoadScript(\"vega-lite\", \"5.16.3\"))\n",
              "        .then(() => maybeLoadScript(\"vega-embed\", \"6\"))\n",
              "        .catch(showError)\n",
              "        .then(() => displayChart(vegaEmbed));\n",
              "    }\n",
              "  })({\"config\": {\"view\": {\"continuousWidth\": 300, \"continuousHeight\": 300}}, \"data\": {\"name\": \"data-51ac016676fee97dfab2ec32b0c35ac9\"}, \"mark\": {\"type\": \"bar\"}, \"encoding\": {\"color\": {\"field\": \"status\", \"scale\": {\"domain\": [\"infrequent\", \"occasional\", \"elevated\", \"severe\"], \"range\": [\"green\", \"yellow\", \"orange\", \"red\"]}, \"type\": \"nominal\"}, \"x\": {\"field\": \"start_date\", \"title\": \"Date\", \"type\": \"temporal\"}, \"y\": {\"field\": \"score\", \"title\": \"Scratching Time (seconds)\", \"type\": \"quantitative\"}}, \"height\": 600, \"title\": \"Ginger's Scratching\", \"width\": \"container\", \"$schema\": \"https://vega.github.io/schema/vega-lite/v5.16.3.json\", \"datasets\": {\"data-51ac016676fee97dfab2ec32b0c35ac9\": [{\"start_date\": \"2024-01-27\", \"score\": 0, \"unit\": \"second\", \"status\": \"infrequent\", \"fraction_valid\": 0.0}, {\"start_date\": \"2024-01-26\", \"score\": 58, \"unit\": \"second\", \"status\": \"occasional\", \"fraction_valid\": 1.0}, {\"start_date\": \"2024-01-25\", \"score\": 73, \"unit\": \"second\", \"status\": \"occasional\", \"fraction_valid\": 1.0}, {\"start_date\": \"2024-01-24\", \"score\": 62, \"unit\": \"second\", \"status\": \"occasional\", \"fraction_valid\": 1.0}, {\"start_date\": \"2024-01-23\", \"score\": 115, \"unit\": \"second\", \"status\": \"occasional\", \"fraction_valid\": 1.0}, {\"start_date\": \"2024-01-22\", \"score\": 74, \"unit\": \"second\", \"status\": \"occasional\", \"fraction_valid\": 1.0}, {\"start_date\": \"2024-01-21\", \"score\": 20, \"unit\": \"second\", \"status\": \"infrequent\", \"fraction_valid\": 1.0}, {\"start_date\": \"2024-01-20\", \"score\": 71, \"unit\": \"second\", \"status\": \"occasional\", \"fraction_valid\": 1.0}, {\"start_date\": \"2024-01-19\", \"score\": 81, \"unit\": \"second\", \"status\": \"occasional\", \"fraction_valid\": 1.0}, {\"start_date\": \"2024-01-18\", \"score\": 85, \"unit\": \"second\", \"status\": \"occasional\", \"fraction_valid\": 1.0}, {\"start_date\": \"2024-01-17\", \"score\": 48, \"unit\": \"second\", \"status\": \"infrequent\", \"fraction_valid\": 1.0}, {\"start_date\": \"2024-01-16\", \"score\": 94, \"unit\": \"second\", \"status\": \"occasional\", \"fraction_valid\": 1.0}, {\"start_date\": \"2024-01-15\", \"score\": 48, \"unit\": \"second\", \"status\": \"infrequent\", \"fraction_valid\": 1.0}, {\"start_date\": \"2024-01-14\", \"score\": 62, \"unit\": \"second\", \"status\": \"occasional\", \"fraction_valid\": 1.0}, {\"start_date\": \"2024-01-13\", \"score\": 68, \"unit\": \"second\", \"status\": \"occasional\", \"fraction_valid\": 1.0}, {\"start_date\": \"2024-01-12\", \"score\": 118, \"unit\": \"second\", \"status\": \"occasional\", \"fraction_valid\": 1.0}, {\"start_date\": \"2024-01-11\", \"score\": 45, \"unit\": \"second\", \"status\": \"infrequent\", \"fraction_valid\": 1.0}, {\"start_date\": \"2024-01-10\", \"score\": 34, \"unit\": \"second\", \"status\": \"infrequent\", \"fraction_valid\": 1.0}, {\"start_date\": \"2024-01-09\", \"score\": 116, \"unit\": \"second\", \"status\": \"occasional\", \"fraction_valid\": 1.0}, {\"start_date\": \"2024-01-08\", \"score\": 98, \"unit\": \"second\", \"status\": \"occasional\", \"fraction_valid\": 1.0}, {\"start_date\": \"2024-01-07\", \"score\": 104, \"unit\": \"second\", \"status\": \"occasional\", \"fraction_valid\": 1.0}, {\"start_date\": \"2024-01-06\", \"score\": 79, \"unit\": \"second\", \"status\": \"occasional\", \"fraction_valid\": 1.0}, {\"start_date\": \"2024-01-05\", \"score\": 69, \"unit\": \"second\", \"status\": \"occasional\", \"fraction_valid\": 1.0}, {\"start_date\": \"2024-01-04\", \"score\": 74, \"unit\": \"second\", \"status\": \"occasional\", \"fraction_valid\": 1.0}, {\"start_date\": \"2024-01-03\", \"score\": 80, \"unit\": \"second\", \"status\": \"occasional\", \"fraction_valid\": 1.0}, {\"start_date\": \"2024-01-02\", \"score\": 66, \"unit\": \"second\", \"status\": \"occasional\", \"fraction_valid\": 1.0}, {\"start_date\": \"2024-01-01\", \"score\": 118, \"unit\": \"second\", \"status\": \"occasional\", \"fraction_valid\": 1.0}, {\"start_date\": \"2023-12-31\", \"score\": 96, \"unit\": \"second\", \"status\": \"occasional\", \"fraction_valid\": 1.0}, {\"start_date\": \"2023-12-30\", \"score\": 105, \"unit\": \"second\", \"status\": \"occasional\", \"fraction_valid\": 1.0}, {\"start_date\": \"2023-12-29\", \"score\": 34, \"unit\": \"second\", \"status\": \"infrequent\", \"fraction_valid\": 1.0}, {\"start_date\": \"2023-12-28\", \"score\": 68, \"unit\": \"second\", \"status\": \"occasional\", \"fraction_valid\": 1.0}, {\"start_date\": \"2023-12-27\", \"score\": 44, \"unit\": \"second\", \"status\": \"infrequent\", \"fraction_valid\": 1.0}, {\"start_date\": \"2023-12-26\", \"score\": 71, \"unit\": \"second\", \"status\": \"occasional\", \"fraction_valid\": 1.0}, {\"start_date\": \"2023-12-25\", \"score\": 54, \"unit\": \"second\", \"status\": \"occasional\", \"fraction_valid\": 1.0}, {\"start_date\": \"2023-12-24\", \"score\": 29, \"unit\": \"second\", \"status\": \"infrequent\", \"fraction_valid\": 1.0}, {\"start_date\": \"2023-12-23\", \"score\": 132, \"unit\": \"second\", \"status\": \"elevated\", \"fraction_valid\": 1.0}, {\"start_date\": \"2023-12-22\", \"score\": 47, \"unit\": \"second\", \"status\": \"infrequent\", \"fraction_valid\": 1.0}, {\"start_date\": \"2023-12-21\", \"score\": 64, \"unit\": \"second\", \"status\": \"occasional\", \"fraction_valid\": 1.0}, {\"start_date\": \"2023-12-20\", \"score\": 82, \"unit\": \"second\", \"status\": \"occasional\", \"fraction_valid\": 1.0}, {\"start_date\": \"2023-12-19\", \"score\": 113, \"unit\": \"second\", \"status\": \"occasional\", \"fraction_valid\": 0.56}, {\"start_date\": \"2023-12-18\", \"score\": 198, \"unit\": \"second\", \"status\": \"elevated\", \"fraction_valid\": 1.0}, {\"start_date\": \"2023-12-17\", \"score\": 164, \"unit\": \"second\", \"status\": \"elevated\", \"fraction_valid\": 0.94}, {\"start_date\": \"2023-12-16\", \"score\": 170, \"unit\": \"second\", \"status\": \"elevated\", \"fraction_valid\": 0.67}, {\"start_date\": \"2023-12-15\", \"score\": 154, \"unit\": \"second\", \"status\": \"elevated\", \"fraction_valid\": 1.0}, {\"start_date\": \"2023-12-14\", \"score\": 182, \"unit\": \"second\", \"status\": \"elevated\", \"fraction_valid\": 1.0}, {\"start_date\": \"2023-12-13\", \"score\": 123, \"unit\": \"second\", \"status\": \"elevated\", \"fraction_valid\": 1.0}, {\"start_date\": \"2023-12-12\", \"score\": 129, \"unit\": \"second\", \"status\": \"elevated\", \"fraction_valid\": 1.0}, {\"start_date\": \"2023-12-11\", \"score\": 172, \"unit\": \"second\", \"status\": \"elevated\", \"fraction_valid\": 1.0}, {\"start_date\": \"2023-12-10\", \"score\": 258, \"unit\": \"second\", \"status\": \"elevated\", \"fraction_valid\": 1.0}, {\"start_date\": \"2023-12-09\", \"score\": 121, \"unit\": \"second\", \"status\": \"elevated\", \"fraction_valid\": 1.0}, {\"start_date\": \"2023-12-08\", \"score\": 190, \"unit\": \"second\", \"status\": \"elevated\", \"fraction_valid\": 1.0}, {\"start_date\": \"2023-12-07\", \"score\": 184, \"unit\": \"second\", \"status\": \"elevated\", \"fraction_valid\": 1.0}, {\"start_date\": \"2023-12-06\", \"score\": 133, \"unit\": \"second\", \"status\": \"elevated\", \"fraction_valid\": 1.0}, {\"start_date\": \"2023-12-05\", \"score\": 179, \"unit\": \"second\", \"status\": \"elevated\", \"fraction_valid\": 1.0}, {\"start_date\": \"2023-12-04\", \"score\": 140, \"unit\": \"second\", \"status\": \"elevated\", \"fraction_valid\": 1.0}, {\"start_date\": \"2023-12-03\", \"score\": 108, \"unit\": \"second\", \"status\": \"occasional\", \"fraction_valid\": 1.0}, {\"start_date\": \"2023-12-02\", \"score\": 182, \"unit\": \"second\", \"status\": \"elevated\", \"fraction_valid\": 1.0}, {\"start_date\": \"2023-12-01\", \"score\": 91, \"unit\": \"second\", \"status\": \"occasional\", \"fraction_valid\": 1.0}, {\"start_date\": \"2023-11-30\", \"score\": 211, \"unit\": \"second\", \"status\": \"elevated\", \"fraction_valid\": 1.0}, {\"start_date\": \"2023-11-29\", \"score\": 152, \"unit\": \"second\", \"status\": \"elevated\", \"fraction_valid\": 1.0}, {\"start_date\": \"2023-11-28\", \"score\": 141, \"unit\": \"second\", \"status\": \"elevated\", \"fraction_valid\": 0.17}, {\"start_date\": \"2023-11-27\", \"score\": 152, \"unit\": \"second\", \"status\": \"elevated\", \"fraction_valid\": 0.01}, {\"start_date\": \"2023-11-26\", \"score\": 146, \"unit\": \"second\", \"status\": \"elevated\", \"fraction_valid\": 0.0}, {\"start_date\": \"2023-11-25\", \"score\": 151, \"unit\": \"second\", \"status\": \"elevated\", \"fraction_valid\": 0.0}, {\"start_date\": \"2023-11-24\", \"score\": 154, \"unit\": \"second\", \"status\": \"elevated\", \"fraction_valid\": 0.0}, {\"start_date\": \"2023-11-23\", \"score\": 152, \"unit\": \"second\", \"status\": \"elevated\", \"fraction_valid\": 0.0}, {\"start_date\": \"2023-11-22\", \"score\": 141, \"unit\": \"second\", \"status\": \"elevated\", \"fraction_valid\": 0.01}, {\"start_date\": \"2023-11-21\", \"score\": 158, \"unit\": \"second\", \"status\": \"elevated\", \"fraction_valid\": 0.0}, {\"start_date\": \"2023-11-20\", \"score\": 155, \"unit\": \"second\", \"status\": \"elevated\", \"fraction_valid\": 0.0}, {\"start_date\": \"2023-11-19\", \"score\": 146, \"unit\": \"second\", \"status\": \"elevated\", \"fraction_valid\": 0.0}, {\"start_date\": \"2023-11-18\", \"score\": 151, \"unit\": \"second\", \"status\": \"elevated\", \"fraction_valid\": 0.0}, {\"start_date\": \"2023-11-17\", \"score\": 154, \"unit\": \"second\", \"status\": \"elevated\", \"fraction_valid\": 0.0}, {\"start_date\": \"2023-11-16\", \"score\": 147, \"unit\": \"second\", \"status\": \"elevated\", \"fraction_valid\": 0.72}, {\"start_date\": \"2023-11-15\", \"score\": 139, \"unit\": \"second\", \"status\": \"elevated\", \"fraction_valid\": 1.0}, {\"start_date\": \"2023-11-14\", \"score\": 238, \"unit\": \"second\", \"status\": \"elevated\", \"fraction_valid\": 1.0}, {\"start_date\": \"2023-11-13\", \"score\": 198, \"unit\": \"second\", \"status\": \"elevated\", \"fraction_valid\": 1.0}, {\"start_date\": \"2023-11-12\", \"score\": 137, \"unit\": \"second\", \"status\": \"elevated\", \"fraction_valid\": 1.0}, {\"start_date\": \"2023-11-11\", \"score\": 226, \"unit\": \"second\", \"status\": \"elevated\", \"fraction_valid\": 1.0}, {\"start_date\": \"2023-11-10\", \"score\": 186, \"unit\": \"second\", \"status\": \"elevated\", \"fraction_valid\": 0.85}, {\"start_date\": \"2023-11-09\", \"score\": 259, \"unit\": \"second\", \"status\": \"elevated\", \"fraction_valid\": 1.0}, {\"start_date\": \"2023-11-08\", \"score\": 187, \"unit\": \"second\", \"status\": \"elevated\", \"fraction_valid\": 1.0}, {\"start_date\": \"2023-11-07\", \"score\": 115, \"unit\": \"second\", \"status\": \"occasional\", \"fraction_valid\": 1.0}, {\"start_date\": \"2023-11-06\", \"score\": 182, \"unit\": \"second\", \"status\": \"elevated\", \"fraction_valid\": 1.0}, {\"start_date\": \"2023-11-05\", \"score\": 90, \"unit\": \"second\", \"status\": \"occasional\", \"fraction_valid\": 1.04}, {\"start_date\": \"2023-11-04\", \"score\": 97, \"unit\": \"second\", \"status\": \"occasional\", \"fraction_valid\": 1.0}, {\"start_date\": \"2023-11-03\", \"score\": 178, \"unit\": \"second\", \"status\": \"elevated\", \"fraction_valid\": 1.0}, {\"start_date\": \"2023-11-02\", \"score\": 18, \"unit\": \"second\", \"status\": \"infrequent\", \"fraction_valid\": 1.0}, {\"start_date\": \"2023-11-01\", \"score\": 57, \"unit\": \"second\", \"status\": \"occasional\", \"fraction_valid\": 1.0}, {\"start_date\": \"2023-10-31\", \"score\": 36, \"unit\": \"second\", \"status\": \"infrequent\", \"fraction_valid\": 1.0}, {\"start_date\": \"2023-10-30\", \"score\": 145, \"unit\": \"second\", \"status\": \"elevated\", \"fraction_valid\": 1.0}, {\"start_date\": \"2023-10-29\", \"score\": 116, \"unit\": \"second\", \"status\": \"occasional\", \"fraction_valid\": 0.46}, {\"start_date\": \"2023-10-28\", \"score\": 94, \"unit\": \"second\", \"status\": \"occasional\", \"fraction_valid\": 1.0}, {\"start_date\": \"2023-10-27\", \"score\": 257, \"unit\": \"second\", \"status\": \"elevated\", \"fraction_valid\": 0.74}, {\"start_date\": \"2023-10-26\", \"score\": 176, \"unit\": \"second\", \"status\": \"elevated\", \"fraction_valid\": 1.0}, {\"start_date\": \"2023-10-25\", \"score\": 114, \"unit\": \"second\", \"status\": \"occasional\", \"fraction_valid\": 1.0}, {\"start_date\": \"2023-10-24\", \"score\": 227, \"unit\": \"second\", \"status\": \"elevated\", \"fraction_valid\": 1.0}, {\"start_date\": \"2023-10-23\", \"score\": 122, \"unit\": \"second\", \"status\": \"elevated\", \"fraction_valid\": 1.0}, {\"start_date\": \"2023-10-22\", \"score\": 131, \"unit\": \"second\", \"status\": \"elevated\", \"fraction_valid\": 1.0}, {\"start_date\": \"2023-10-21\", \"score\": 208, \"unit\": \"second\", \"status\": \"elevated\", \"fraction_valid\": 1.0}, {\"start_date\": \"2023-10-20\", \"score\": 180, \"unit\": \"second\", \"status\": \"elevated\", \"fraction_valid\": 1.0}, {\"start_date\": \"2023-10-19\", \"score\": 100, \"unit\": \"second\", \"status\": \"occasional\", \"fraction_valid\": 1.0}, {\"start_date\": \"2023-10-18\", \"score\": 54, \"unit\": \"second\", \"status\": \"occasional\", \"fraction_valid\": 1.0}, {\"start_date\": \"2023-10-17\", \"score\": 129, \"unit\": \"second\", \"status\": \"elevated\", \"fraction_valid\": 1.0}, {\"start_date\": \"2023-10-16\", \"score\": 140, \"unit\": \"second\", \"status\": \"elevated\", \"fraction_valid\": 1.0}, {\"start_date\": \"2023-10-15\", \"score\": 169, \"unit\": \"second\", \"status\": \"elevated\", \"fraction_valid\": 1.0}, {\"start_date\": \"2023-10-14\", \"score\": 105, \"unit\": \"second\", \"status\": \"occasional\", \"fraction_valid\": 1.0}, {\"start_date\": \"2023-10-13\", \"score\": 148, \"unit\": \"second\", \"status\": \"elevated\", \"fraction_valid\": 1.0}, {\"start_date\": \"2023-10-12\", \"score\": 248, \"unit\": \"second\", \"status\": \"elevated\", \"fraction_valid\": 1.0}, {\"start_date\": \"2023-10-11\", \"score\": 100, \"unit\": \"second\", \"status\": \"occasional\", \"fraction_valid\": 1.0}, {\"start_date\": \"2023-10-10\", \"score\": 230, \"unit\": \"second\", \"status\": \"elevated\", \"fraction_valid\": 1.0}, {\"start_date\": \"2023-10-09\", \"score\": 176, \"unit\": \"second\", \"status\": \"elevated\", \"fraction_valid\": 1.0}, {\"start_date\": \"2023-10-08\", \"score\": 247, \"unit\": \"second\", \"status\": \"elevated\", \"fraction_valid\": 1.0}, {\"start_date\": \"2023-10-07\", \"score\": 300, \"unit\": \"second\", \"status\": \"severe\", \"fraction_valid\": 1.0}, {\"start_date\": \"2023-10-06\", \"score\": 306, \"unit\": \"second\", \"status\": \"severe\", \"fraction_valid\": 1.0}, {\"start_date\": \"2023-10-05\", \"score\": 311, \"unit\": \"second\", \"status\": \"severe\", \"fraction_valid\": 1.0}, {\"start_date\": \"2023-10-04\", \"score\": 215, \"unit\": \"second\", \"status\": \"elevated\", \"fraction_valid\": 0.51}, {\"start_date\": \"2023-10-03\", \"score\": 319, \"unit\": \"second\", \"status\": \"severe\", \"fraction_valid\": 1.0}, {\"start_date\": \"2023-10-02\", \"score\": 250, \"unit\": \"second\", \"status\": \"elevated\", \"fraction_valid\": 1.0}, {\"start_date\": \"2023-10-01\", \"score\": 157, \"unit\": \"second\", \"status\": \"elevated\", \"fraction_valid\": 1.0}, {\"start_date\": \"2023-09-30\", \"score\": 299, \"unit\": \"second\", \"status\": \"elevated\", \"fraction_valid\": 1.0}, {\"start_date\": \"2023-09-29\", \"score\": 156, \"unit\": \"second\", \"status\": \"elevated\", \"fraction_valid\": 1.0}, {\"start_date\": \"2023-09-28\", \"score\": 296, \"unit\": \"second\", \"status\": \"elevated\", \"fraction_valid\": 1.0}, {\"start_date\": \"2023-09-27\", \"score\": 167, \"unit\": \"second\", \"status\": \"elevated\", \"fraction_valid\": 1.0}, {\"start_date\": \"2023-09-26\", \"score\": 317, \"unit\": \"second\", \"status\": \"severe\", \"fraction_valid\": 1.0}, {\"start_date\": \"2023-09-25\", \"score\": 387, \"unit\": \"second\", \"status\": \"severe\", \"fraction_valid\": 1.0}, {\"start_date\": \"2023-09-24\", \"score\": 461, \"unit\": \"second\", \"status\": \"severe\", \"fraction_valid\": 1.0}, {\"start_date\": \"2023-09-23\", \"score\": 406, \"unit\": \"second\", \"status\": \"severe\", \"fraction_valid\": 1.0}, {\"start_date\": \"2023-09-22\", \"score\": 376, \"unit\": \"second\", \"status\": \"severe\", \"fraction_valid\": 1.0}, {\"start_date\": \"2023-09-21\", \"score\": 299, \"unit\": \"second\", \"status\": \"elevated\", \"fraction_valid\": 1.0}, {\"start_date\": \"2023-09-20\", \"score\": 262, \"unit\": \"second\", \"status\": \"elevated\", \"fraction_valid\": 1.0}, {\"start_date\": \"2023-09-19\", \"score\": 194, \"unit\": \"second\", \"status\": \"elevated\", \"fraction_valid\": 1.0}, {\"start_date\": \"2023-09-18\", \"score\": 150, \"unit\": \"second\", \"status\": \"elevated\", \"fraction_valid\": 1.0}, {\"start_date\": \"2023-09-17\", \"score\": 310, \"unit\": \"second\", \"status\": \"severe\", \"fraction_valid\": 1.0}, {\"start_date\": \"2023-09-16\", \"score\": 252, \"unit\": \"second\", \"status\": \"elevated\", \"fraction_valid\": 0.68}, {\"start_date\": \"2023-09-15\", \"score\": 286, \"unit\": \"second\", \"status\": \"elevated\", \"fraction_valid\": 1.0}, {\"start_date\": \"2023-09-14\", \"score\": 189, \"unit\": \"second\", \"status\": \"elevated\", \"fraction_valid\": 1.0}, {\"start_date\": \"2023-09-13\", \"score\": 220, \"unit\": \"second\", \"status\": \"elevated\", \"fraction_valid\": 1.0}, {\"start_date\": \"2023-09-12\", \"score\": 304, \"unit\": \"second\", \"status\": \"severe\", \"fraction_valid\": 1.0}, {\"start_date\": \"2023-09-11\", \"score\": 262, \"unit\": \"second\", \"status\": \"elevated\", \"fraction_valid\": 1.0}, {\"start_date\": \"2023-09-10\", \"score\": 531, \"unit\": \"second\", \"status\": \"severe\", \"fraction_valid\": 1.0}, {\"start_date\": \"2023-09-09\", \"score\": 493, \"unit\": \"second\", \"status\": \"severe\", \"fraction_valid\": 1.0}, {\"start_date\": \"2023-09-08\", \"score\": 372, \"unit\": \"second\", \"status\": \"severe\", \"fraction_valid\": 1.0}, {\"start_date\": \"2023-09-07\", \"score\": 418, \"unit\": \"second\", \"status\": \"severe\", \"fraction_valid\": 1.0}, {\"start_date\": \"2023-09-06\", \"score\": 289, \"unit\": \"second\", \"status\": \"elevated\", \"fraction_valid\": 1.0}, {\"start_date\": \"2023-09-05\", \"score\": 265, \"unit\": \"second\", \"status\": \"elevated\", \"fraction_valid\": 1.0}, {\"start_date\": \"2023-09-04\", \"score\": 136, \"unit\": \"second\", \"status\": \"elevated\", \"fraction_valid\": 1.0}, {\"start_date\": \"2023-09-03\", \"score\": 287, \"unit\": \"second\", \"status\": \"elevated\", \"fraction_valid\": 0.64}, {\"start_date\": \"2023-09-02\", \"score\": 68, \"unit\": \"second\", \"status\": \"occasional\", \"fraction_valid\": 0.98}, {\"start_date\": \"2023-09-01\", \"score\": 83, \"unit\": \"second\", \"status\": \"occasional\", \"fraction_valid\": 1.0}, {\"start_date\": \"2023-08-31\", \"score\": 235, \"unit\": \"second\", \"status\": \"elevated\", \"fraction_valid\": 1.0}, {\"start_date\": \"2023-08-30\", \"score\": 245, \"unit\": \"second\", \"status\": \"elevated\", \"fraction_valid\": 0.85}, {\"start_date\": \"2023-08-29\", \"score\": 267, \"unit\": \"second\", \"status\": \"elevated\", \"fraction_valid\": 1.0}, {\"start_date\": \"2023-08-28\", \"score\": 248, \"unit\": \"second\", \"status\": \"elevated\", \"fraction_valid\": 0.81}, {\"start_date\": \"2023-08-27\", \"score\": 204, \"unit\": \"second\", \"status\": \"elevated\", \"fraction_valid\": 1.0}, {\"start_date\": \"2023-08-26\", \"score\": 279, \"unit\": \"second\", \"status\": \"elevated\", \"fraction_valid\": 1.0}, {\"start_date\": \"2023-08-25\", \"score\": 212, \"unit\": \"second\", \"status\": \"elevated\", \"fraction_valid\": 1.0}, {\"start_date\": \"2023-08-24\", \"score\": 131, \"unit\": \"second\", \"status\": \"elevated\", \"fraction_valid\": 1.0}, {\"start_date\": \"2023-08-23\", \"score\": 69, \"unit\": \"second\", \"status\": \"occasional\", \"fraction_valid\": 1.0}, {\"start_date\": \"2023-08-22\", \"score\": 169, \"unit\": \"second\", \"status\": \"elevated\", \"fraction_valid\": 1.0}, {\"start_date\": \"2023-08-21\", \"score\": 236, \"unit\": \"second\", \"status\": \"elevated\", \"fraction_valid\": 1.0}, {\"start_date\": \"2023-08-20\", \"score\": 129, \"unit\": \"second\", \"status\": \"elevated\", \"fraction_valid\": 1.0}, {\"start_date\": \"2023-08-19\", \"score\": 189, \"unit\": \"second\", \"status\": \"elevated\", \"fraction_valid\": 1.0}, {\"start_date\": \"2023-08-18\", \"score\": 219, \"unit\": \"second\", \"status\": \"elevated\", \"fraction_valid\": 1.0}, {\"start_date\": \"2023-08-17\", \"score\": 238, \"unit\": \"second\", \"status\": \"elevated\", \"fraction_valid\": 1.0}, {\"start_date\": \"2023-08-16\", \"score\": 214, \"unit\": \"second\", \"status\": \"elevated\", \"fraction_valid\": 1.0}, {\"start_date\": \"2023-08-15\", \"score\": 349, \"unit\": \"second\", \"status\": \"severe\", \"fraction_valid\": 1.0}, {\"start_date\": \"2023-08-14\", \"score\": 277, \"unit\": \"second\", \"status\": \"elevated\", \"fraction_valid\": 1.0}, {\"start_date\": \"2023-08-13\", \"score\": 262, \"unit\": \"second\", \"status\": \"elevated\", \"fraction_valid\": 1.0}, {\"start_date\": \"2023-08-12\", \"score\": 225, \"unit\": \"second\", \"status\": \"elevated\", \"fraction_valid\": 1.0}, {\"start_date\": \"2023-08-11\", \"score\": 216, \"unit\": \"second\", \"status\": \"elevated\", \"fraction_valid\": 1.0}, {\"start_date\": \"2023-08-10\", \"score\": 174, \"unit\": \"second\", \"status\": \"elevated\", \"fraction_valid\": 1.0}, {\"start_date\": \"2023-08-09\", \"score\": 287, \"unit\": \"second\", \"status\": \"elevated\", \"fraction_valid\": 1.0}, {\"start_date\": \"2023-08-08\", \"score\": 193, \"unit\": \"second\", \"status\": \"elevated\", \"fraction_valid\": 1.0}, {\"start_date\": \"2023-08-07\", \"score\": 305, \"unit\": \"second\", \"status\": \"severe\", \"fraction_valid\": 1.0}, {\"start_date\": \"2023-08-06\", \"score\": 216, \"unit\": \"second\", \"status\": \"elevated\", \"fraction_valid\": 1.0}, {\"start_date\": \"2023-08-05\", \"score\": 348, \"unit\": \"second\", \"status\": \"severe\", \"fraction_valid\": 1.0}, {\"start_date\": \"2023-08-04\", \"score\": 263, \"unit\": \"second\", \"status\": \"elevated\", \"fraction_valid\": 1.0}, {\"start_date\": \"2023-08-03\", \"score\": 0, \"unit\": \"second\", \"status\": \"infrequent\", \"fraction_valid\": 0.0}, {\"start_date\": \"2023-08-02\", \"score\": 152, \"unit\": \"second\", \"status\": \"elevated\", \"fraction_valid\": 1.0}, {\"start_date\": \"2023-08-01\", \"score\": 254, \"unit\": \"second\", \"status\": \"elevated\", \"fraction_valid\": 1.0}]}}, {\"mode\": \"vega-lite\"});\n",
              "</script>"
            ],
            "text/plain": [
              "alt.Chart(...)"
            ]
          },
          "metadata": {},
          "execution_count": 3
        }
      ]
    }
  ]
}